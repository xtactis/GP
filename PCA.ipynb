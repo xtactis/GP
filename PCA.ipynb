{
 "cells": [
  {
   "cell_type": "code",
   "execution_count": 2,
   "metadata": {},
   "outputs": [
    {
     "name": "stdout",
     "output_type": "stream",
     "text": [
      "['AMP_dataset_features.csv', 'antibacterial.csv', 'anticancer.csv', 'antifungal.csv', 'antigram_minus.csv', 'antigram_plus.csv', 'antimicrobial.csv', 'antiparasitic.csv', 'antiprotozoal.csv', 'antitumor.csv', 'antiviral.csv', 'dramp_general_and_patent.csv', 'insecticidal.csv']\n"
     ]
    }
   ],
   "source": [
    "import pandas as pd\n",
    "import numpy as np\n",
    "from sklearn.decomposition import PCA\n",
    "from os import listdir\n",
    "from os.path import isfile, join\n",
    "from sklearn.model_selection import cross_val_score\n",
    "from sklearn.tree import DecisionTreeClassifier\n",
    "\n",
    "path = \"datasets/\"\n",
    "output_path = \"processed/\"\n",
    "\n",
    "filenames = [f for f in listdir(path) if isfile(join(path, f))]\n",
    "print(filenames)"
   ]
  },
  {
   "cell_type": "code",
   "execution_count": 26,
   "metadata": {},
   "outputs": [],
   "source": [
    "pca = PCA(n_components=13)\n",
    "for filename in filenames:\n",
    "    df = pd.read_csv(path + filename)\n",
    "\n",
    "    if filename == \"AMP_dataset_features.csv\":\n",
    "        y = df[\"Labels\"]\n",
    "        X = pca.fit_transform(df.drop(columns = [\"AASequences\", \"Labels\"]))\n",
    "    else:\n",
    "        y = df[\"label\"]\n",
    "        X = pca.fit_transform(df.drop(columns = [\"sequence\", \"label\"]))\n",
    "    \n",
    "    # realno u ovoj skripti nista nije bitno osim ovog dijela\n",
    "    # bitno je samo da je format datoteke koje program moze citati sljedeci\n",
    "    # BROJ_KLASA BROJ_ZNACAJKI BROJ_REDAKA\n",
    "    # zatim u odvojenim retcima minimalna i maksimalna vrijednost svake znacajke, te broj 0 ako je znacajka kontinuirana odnosno 1 ako je diskretna\n",
    "    # nakon toga svi podaci gdje je oznaka koju trazimo prva vrijednost u redu\n",
    "    with open(output_path + filename[:-4], \"w+\") as f:\n",
    "        f.write(\"%d %d %d\\n\" % (len(y.values), len(X[0]), len(set(y.values))))\n",
    "        for m, M in zip(X.min(axis=0), X.max(axis=0)):\n",
    "            f.write(\"%f %f 0\\n\" % (m, M))\n",
    "        for label, features in zip(y.values, X):\n",
    "            f.write(str(label))\n",
    "            for feature in features:\n",
    "                f.write(\" \"+str(feature))\n",
    "            f.write(\"\\n\")"
   ]
  },
  {
   "cell_type": "code",
   "execution_count": 19,
   "metadata": {},
   "outputs": [],
   "source": [
    "fname = \"D:/Downloads/test.csv\"\n",
    "df = pd.read_csv(fname)\n",
    "y = df[\"Labels\"]\n",
    "X = df.drop(columns = [\"AASequences\", \"Labels\"]).values"
   ]
  },
  {
   "cell_type": "code",
   "execution_count": 18,
   "metadata": {},
   "outputs": [],
   "source": [
    "with open(\"full_test\", \"w+\") as f:\n",
    "        f.write(\"%d %d %d\\n\" % (len(y.values), len(X[0]), len(set(y.values))))\n",
    "        for m, M in zip(X.min(axis=0), X.max(axis=0)):\n",
    "            f.write(\"%f %f 0\\n\" % (m, M))\n",
    "        for label, features in zip(y.values, X):\n",
    "            f.write(str(label))\n",
    "            for feature in features:\n",
    "                f.write(\" \"+str(feature))\n",
    "            f.write(\"\\n\")"
   ]
  },
  {
   "cell_type": "code",
   "execution_count": 21,
   "metadata": {},
   "outputs": [
    {
     "name": "stdout",
     "output_type": "stream",
     "text": [
      "0 AliphaticIndex\n",
      "1 BLOSUM1\n",
      "2 BLOSUM10\n",
      "3 BLOSUM2\n",
      "4 BLOSUM3\n",
      "5 BLOSUM4\n",
      "6 BLOSUM5\n",
      "7 BLOSUM6\n",
      "8 BLOSUM7\n",
      "9 BLOSUM8\n",
      "10 BLOSUM9\n",
      "11 F1\n",
      "12 F2\n",
      "13 F3\n",
      "14 Hydrophobicity\n",
      "15 KF1\n",
      "16 KF2\n",
      "17 KF3\n",
      "18 KF4\n",
      "19 KF5\n",
      "20 KF6\n",
      "21 KF7\n",
      "22 KF8\n",
      "23 MSWHIM1\n",
      "24 MSWHIM2\n",
      "25 MSWHIM3\n",
      "26 PP1\n",
      "27 PP2\n",
      "28 PP3\n",
      "29 ProtFP1\n",
      "30 ProtFP2\n",
      "31 ProtFP3\n",
      "32 ProtFP4\n",
      "33 ProtFP5\n",
      "34 ProtFP6\n",
      "35 ProtFP7\n",
      "36 ProtFP8\n",
      "37 ST1\n",
      "38 ST2\n",
      "39 ST3\n",
      "40 ST4\n",
      "41 ST5\n",
      "42 ST6\n",
      "43 ST7\n",
      "44 ST8\n",
      "45 T1\n",
      "46 T2\n",
      "47 T3\n",
      "48 T4\n",
      "49 T5\n",
      "50 VHSE1\n",
      "51 VHSE2\n",
      "52 VHSE3\n",
      "53 VHSE4\n",
      "54 VHSE5\n",
      "55 VHSE6\n",
      "56 VHSE7\n",
      "57 VHSE8\n",
      "58 Z1\n",
      "59 Z2\n",
      "60 Z3\n",
      "61 Z4\n",
      "62 Z5\n"
     ]
    }
   ],
   "source": [
    "for i, e in enumerate(df.drop(columns = [\"AASequences\", \"Labels\"]).columns):\n",
    "    print(i, e)"
   ]
  },
  {
   "cell_type": "code",
   "execution_count": null,
   "metadata": {},
   "outputs": [],
   "source": []
  }
 ],
 "metadata": {
  "kernelspec": {
   "display_name": "Python 3",
   "language": "python",
   "name": "python3"
  },
  "language_info": {
   "codemirror_mode": {
    "name": "ipython",
    "version": 3
   },
   "file_extension": ".py",
   "mimetype": "text/x-python",
   "name": "python",
   "nbconvert_exporter": "python",
   "pygments_lexer": "ipython3",
   "version": "3.8.4"
  }
 },
 "nbformat": 4,
 "nbformat_minor": 4
}
